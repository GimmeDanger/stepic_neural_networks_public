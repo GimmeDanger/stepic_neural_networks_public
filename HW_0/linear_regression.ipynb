{
 "cells": [
  {
   "cell_type": "code",
   "execution_count": 102,
   "metadata": {
    "collapsed": false
   },
   "outputs": [],
   "source": [
    "# Stepik course -- neural networks -- basics of linear algebra and numpy\n",
    "import csv\n",
    "import urllib2\n",
    "import numpy as np\n"
   ]
  },
  {
   "cell_type": "code",
   "execution_count": 103,
   "metadata": {
    "collapsed": false
   },
   "outputs": [
    {
     "data": {
      "text/plain": [
       "array([ 22.53280632,   3.61352356,  11.36363636,   0.06916996,\n",
       "         0.55469506,   6.28463439,   3.79504269])"
      ]
     },
     "execution_count": 103,
     "metadata": {},
     "output_type": "execute_result"
    }
   ],
   "source": [
    "# Read csv from url, load it into numpy array and find mean of columns\n",
    "f = urllib2.urlopen('https://stepic.org/media/attachments/lesson/16462/boston_houses.csv')\n",
    "data = np.loadtxt(f, skiprows=1, dtype=np.float, delimiter=\",\")\n",
    "np.mean (data, axis=0)"
   ]
  },
  {
   "cell_type": "code",
   "execution_count": 104,
   "metadata": {
    "collapsed": false
   },
   "outputs": [
    {
     "name": "stdout",
     "output_type": "stream",
     "text": [
      "[[-2.34210526]\n",
      " [ 0.19473684]]\n"
     ]
    }
   ],
   "source": [
    "from numpy.linalg import inv\n",
    "from numpy import dot\n",
    "\n",
    "# coeffs for linear regression toy example\n",
    "# b = (X.T * X)-1 * X.T * y\n",
    "X = np.array([[1, 1, 1], [60, 50, 75]]).T\n",
    "y = np.array([[10, 7, 12]]).T\n",
    "\n",
    "matr_mult = inv (dot(X.T, X))\n",
    "matr_mult = dot(matr_mult, X.T)\n",
    "b = np.dot (matr_mult, y)\n",
    "print(b)"
   ]
  },
  {
   "cell_type": "code",
   "execution_count": 125,
   "metadata": {
    "collapsed": false
   },
   "outputs": [
    {
     "name": "stdout",
     "output_type": "stream",
     "text": [
      "-3.65580428506 -0.216395502369 0.0737305981755 4.41245057691 -25.4684487841 7.14320155075 -1.30108767765\n"
     ]
    }
   ],
   "source": [
    "from numpy.linalg import inv\n",
    "from numpy import dot\n",
    "\n",
    "# coeffs for linear regression for the first variable \n",
    "var_num_to_predict = 0 # y == x_0\n",
    "\n",
    "f = urllib2.urlopen('https://stepic.org/media/attachments/lesson/16462/boston_houses.csv')\n",
    "data = np.loadtxt(f, skiprows=1, dtype=np.float, delimiter=\",\") #read data from url without labels\n",
    "#print(np.shape(data))\n",
    "#print(data)\n",
    "\n",
    "y = data[:, var_num_to_predict] # get the column of the variable we want to predict\n",
    "X = np.delete(data, var_num_to_predict, axis=1) # extract columns of predictors\n",
    "#print(np.shape(X))\n",
    "#print(X)\n",
    "\n",
    "# add column of ones to X\n",
    "fst_col = np.ones((X.shape[0], 1))\n",
    "X = np.append(fst_col, X, axis=1)\n",
    "#print(np.shape(X))\n",
    "#print(X)\n",
    "\n",
    "# b = (X.T * X)-1 * X.T * y\n",
    "matr_mult = inv (dot(X.T, X))\n",
    "matr_mult = dot(matr_mult, X.T)\n",
    "b = np.dot (matr_mult, y)\n",
    "\n",
    "print(\" \".join(map(str, b)))"
   ]
  },
  {
   "cell_type": "code",
   "execution_count": null,
   "metadata": {
    "collapsed": true
   },
   "outputs": [],
   "source": []
  }
 ],
 "metadata": {
  "kernelspec": {
   "display_name": "Python 2",
   "language": "python",
   "name": "python2"
  },
  "language_info": {
   "codemirror_mode": {
    "name": "ipython",
    "version": 2
   },
   "file_extension": ".py",
   "mimetype": "text/x-python",
   "name": "python",
   "nbconvert_exporter": "python",
   "pygments_lexer": "ipython2",
   "version": "2.7.6"
  }
 },
 "nbformat": 4,
 "nbformat_minor": 1
}
